{
  "nbformat": 4,
  "nbformat_minor": 0,
  "metadata": {
    "colab": {
      "provenance": [],
      "authorship_tag": "ABX9TyOifc+aIVPnLwbfM7se9IEB",
      "include_colab_link": true
    },
    "kernelspec": {
      "name": "python3",
      "display_name": "Python 3"
    },
    "language_info": {
      "name": "python"
    }
  },
  "cells": [
    {
      "cell_type": "markdown",
      "metadata": {
        "id": "view-in-github",
        "colab_type": "text"
      },
      "source": [
        "<a href=\"https://colab.research.google.com/github/bishair/Model/blob/main/PreprocessedDataAllWells.ipynb\" target=\"_parent\"><img src=\"https://colab.research.google.com/assets/colab-badge.svg\" alt=\"Open In Colab\"/></a>"
      ]
    },
    {
      "cell_type": "code",
      "execution_count": null,
      "metadata": {
        "id": "e5wi9GI0cUDe"
      },
      "outputs": [],
      "source": [
        "import pandas as pd\n",
        "import numpy as np\n",
        "from google.colab import files\n",
        "import os\n",
        "from sklearn.preprocessing import MinMaxScaler\n",
        "from tensorflow.keras.models import Sequential\n",
        "from tensorflow.keras.layers import Dense, LSTM\n",
        "from sklearn.metrics import mean_squared_error"
      ]
    },
    {
      "cell_type": "code",
      "source": [
        "#Function to determine if the user uploaded csv or xlsx file format\n",
        "def load_data(file_name):\n",
        "    # Determine the file extension\n",
        "    file_extension = os.path.splitext(file_name)[1]\n",
        "    # Load data based on file extension\n",
        "    if file_extension == '.xlsx':\n",
        "        return pd.read_excel(file_name)\n",
        "    elif file_extension == '.csv':\n",
        "        return pd.read_csv(file_name)\n",
        "    else:\n",
        "        raise ValueError(\"Unsupported file type. Please upload an Excel or CSV file.\")\n",
        "\n",
        "#Function that returns the index of the row where the header is located based on the provided keywords\n",
        "def find_header_row(file_name, keywords):\n",
        "    # Load only the first 10 rows of the file for efficiency\n",
        "    data = load_data(file_name).head(10)\n",
        "    # Iterate over the rows to find the header row\n",
        "    for row_index, row in data.iterrows():\n",
        "        # Iterate over each cell in the row. For each cell iterate over each keyword in keywords. Covert each cell to string and to lowercase for efficiency\n",
        "        if any(keyword.lower() in str(cell).lower() for cell in row for keyword in keywords):\n",
        "            # Return the index of the header row\n",
        "            return row_index\n",
        "    # If no header row is found, return None\n",
        "    return None\n",
        "\n",
        "#Function to determine which columns contain the data on GW level, date and river water level\n",
        "def find_columns_by_keyword(dataframe, keywords):\n",
        "    matched_columns = []\n",
        "    for column in dataframe.columns:\n",
        "        # Ensure the column name is a string before calling .lower()\n",
        "        column_str = str(column)\n",
        "        if any(keyword.lower() in column_str.lower() for keyword in keywords):\n",
        "            matched_columns.append(column)\n",
        "    return matched_columns\n"
      ],
      "metadata": {
        "id": "rzKOPUlgcYak"
      },
      "execution_count": null,
      "outputs": []
    },
    {
      "cell_type": "code",
      "source": [
        "# Upload the original file\n",
        "uploaded = files.upload()\n",
        "#In case user upload more than one file, only take the name of the first file\n",
        "file_name = next(iter(uploaded))"
      ],
      "metadata": {
        "colab": {
          "base_uri": "https://localhost:8080/",
          "height": 73
        },
        "id": "9CniuQ1Hci_c",
        "outputId": "a13ce474-73b8-45bf-b984-f8275f8cef14"
      },
      "execution_count": null,
      "outputs": [
        {
          "output_type": "display_data",
          "data": {
            "text/plain": [
              "<IPython.core.display.HTML object>"
            ],
            "text/html": [
              "\n",
              "     <input type=\"file\" id=\"files-59b3d892-b591-4a56-817e-7bdb70e08c29\" name=\"files[]\" multiple disabled\n",
              "        style=\"border:none\" />\n",
              "     <output id=\"result-59b3d892-b591-4a56-817e-7bdb70e08c29\">\n",
              "      Upload widget is only available when the cell has been executed in the\n",
              "      current browser session. Please rerun this cell to enable.\n",
              "      </output>\n",
              "      <script>// Copyright 2017 Google LLC\n",
              "//\n",
              "// Licensed under the Apache License, Version 2.0 (the \"License\");\n",
              "// you may not use this file except in compliance with the License.\n",
              "// You may obtain a copy of the License at\n",
              "//\n",
              "//      http://www.apache.org/licenses/LICENSE-2.0\n",
              "//\n",
              "// Unless required by applicable law or agreed to in writing, software\n",
              "// distributed under the License is distributed on an \"AS IS\" BASIS,\n",
              "// WITHOUT WARRANTIES OR CONDITIONS OF ANY KIND, either express or implied.\n",
              "// See the License for the specific language governing permissions and\n",
              "// limitations under the License.\n",
              "\n",
              "/**\n",
              " * @fileoverview Helpers for google.colab Python module.\n",
              " */\n",
              "(function(scope) {\n",
              "function span(text, styleAttributes = {}) {\n",
              "  const element = document.createElement('span');\n",
              "  element.textContent = text;\n",
              "  for (const key of Object.keys(styleAttributes)) {\n",
              "    element.style[key] = styleAttributes[key];\n",
              "  }\n",
              "  return element;\n",
              "}\n",
              "\n",
              "// Max number of bytes which will be uploaded at a time.\n",
              "const MAX_PAYLOAD_SIZE = 100 * 1024;\n",
              "\n",
              "function _uploadFiles(inputId, outputId) {\n",
              "  const steps = uploadFilesStep(inputId, outputId);\n",
              "  const outputElement = document.getElementById(outputId);\n",
              "  // Cache steps on the outputElement to make it available for the next call\n",
              "  // to uploadFilesContinue from Python.\n",
              "  outputElement.steps = steps;\n",
              "\n",
              "  return _uploadFilesContinue(outputId);\n",
              "}\n",
              "\n",
              "// This is roughly an async generator (not supported in the browser yet),\n",
              "// where there are multiple asynchronous steps and the Python side is going\n",
              "// to poll for completion of each step.\n",
              "// This uses a Promise to block the python side on completion of each step,\n",
              "// then passes the result of the previous step as the input to the next step.\n",
              "function _uploadFilesContinue(outputId) {\n",
              "  const outputElement = document.getElementById(outputId);\n",
              "  const steps = outputElement.steps;\n",
              "\n",
              "  const next = steps.next(outputElement.lastPromiseValue);\n",
              "  return Promise.resolve(next.value.promise).then((value) => {\n",
              "    // Cache the last promise value to make it available to the next\n",
              "    // step of the generator.\n",
              "    outputElement.lastPromiseValue = value;\n",
              "    return next.value.response;\n",
              "  });\n",
              "}\n",
              "\n",
              "/**\n",
              " * Generator function which is called between each async step of the upload\n",
              " * process.\n",
              " * @param {string} inputId Element ID of the input file picker element.\n",
              " * @param {string} outputId Element ID of the output display.\n",
              " * @return {!Iterable<!Object>} Iterable of next steps.\n",
              " */\n",
              "function* uploadFilesStep(inputId, outputId) {\n",
              "  const inputElement = document.getElementById(inputId);\n",
              "  inputElement.disabled = false;\n",
              "\n",
              "  const outputElement = document.getElementById(outputId);\n",
              "  outputElement.innerHTML = '';\n",
              "\n",
              "  const pickedPromise = new Promise((resolve) => {\n",
              "    inputElement.addEventListener('change', (e) => {\n",
              "      resolve(e.target.files);\n",
              "    });\n",
              "  });\n",
              "\n",
              "  const cancel = document.createElement('button');\n",
              "  inputElement.parentElement.appendChild(cancel);\n",
              "  cancel.textContent = 'Cancel upload';\n",
              "  const cancelPromise = new Promise((resolve) => {\n",
              "    cancel.onclick = () => {\n",
              "      resolve(null);\n",
              "    };\n",
              "  });\n",
              "\n",
              "  // Wait for the user to pick the files.\n",
              "  const files = yield {\n",
              "    promise: Promise.race([pickedPromise, cancelPromise]),\n",
              "    response: {\n",
              "      action: 'starting',\n",
              "    }\n",
              "  };\n",
              "\n",
              "  cancel.remove();\n",
              "\n",
              "  // Disable the input element since further picks are not allowed.\n",
              "  inputElement.disabled = true;\n",
              "\n",
              "  if (!files) {\n",
              "    return {\n",
              "      response: {\n",
              "        action: 'complete',\n",
              "      }\n",
              "    };\n",
              "  }\n",
              "\n",
              "  for (const file of files) {\n",
              "    const li = document.createElement('li');\n",
              "    li.append(span(file.name, {fontWeight: 'bold'}));\n",
              "    li.append(span(\n",
              "        `(${file.type || 'n/a'}) - ${file.size} bytes, ` +\n",
              "        `last modified: ${\n",
              "            file.lastModifiedDate ? file.lastModifiedDate.toLocaleDateString() :\n",
              "                                    'n/a'} - `));\n",
              "    const percent = span('0% done');\n",
              "    li.appendChild(percent);\n",
              "\n",
              "    outputElement.appendChild(li);\n",
              "\n",
              "    const fileDataPromise = new Promise((resolve) => {\n",
              "      const reader = new FileReader();\n",
              "      reader.onload = (e) => {\n",
              "        resolve(e.target.result);\n",
              "      };\n",
              "      reader.readAsArrayBuffer(file);\n",
              "    });\n",
              "    // Wait for the data to be ready.\n",
              "    let fileData = yield {\n",
              "      promise: fileDataPromise,\n",
              "      response: {\n",
              "        action: 'continue',\n",
              "      }\n",
              "    };\n",
              "\n",
              "    // Use a chunked sending to avoid message size limits. See b/62115660.\n",
              "    let position = 0;\n",
              "    do {\n",
              "      const length = Math.min(fileData.byteLength - position, MAX_PAYLOAD_SIZE);\n",
              "      const chunk = new Uint8Array(fileData, position, length);\n",
              "      position += length;\n",
              "\n",
              "      const base64 = btoa(String.fromCharCode.apply(null, chunk));\n",
              "      yield {\n",
              "        response: {\n",
              "          action: 'append',\n",
              "          file: file.name,\n",
              "          data: base64,\n",
              "        },\n",
              "      };\n",
              "\n",
              "      let percentDone = fileData.byteLength === 0 ?\n",
              "          100 :\n",
              "          Math.round((position / fileData.byteLength) * 100);\n",
              "      percent.textContent = `${percentDone}% done`;\n",
              "\n",
              "    } while (position < fileData.byteLength);\n",
              "  }\n",
              "\n",
              "  // All done.\n",
              "  yield {\n",
              "    response: {\n",
              "      action: 'complete',\n",
              "    }\n",
              "  };\n",
              "}\n",
              "\n",
              "scope.google = scope.google || {};\n",
              "scope.google.colab = scope.google.colab || {};\n",
              "scope.google.colab._files = {\n",
              "  _uploadFiles,\n",
              "  _uploadFilesContinue,\n",
              "};\n",
              "})(self);\n",
              "</script> "
            ]
          },
          "metadata": {}
        },
        {
          "output_type": "stream",
          "name": "stdout",
          "text": [
            "Saving data of 2014.xlsx to data of 2014.xlsx\n"
          ]
        }
      ]
    },
    {
      "cell_type": "code",
      "source": [
        "# Keywords to look for in the header row  =>  MODIFYY LATER DEPENDING UPON SAMPLE\n",
        "header_keywords = [\"date\", \"max\", \"min\", \"G21\"]\n",
        "data_keywords = [\"date\", \"river\", \"water\", \"level\", \"groundwater\", \"G\"]"
      ],
      "metadata": {
        "id": "7q2f4ulleMLq"
      },
      "execution_count": null,
      "outputs": []
    },
    {
      "cell_type": "code",
      "source": [
        "# Find the header row\n",
        "header_row = find_header_row(file_name, header_keywords)\n",
        "\n",
        "# Check if the header row was found\n",
        "if header_row is None:\n",
        "    raise ValueError(\"Could not identify the header row. Please check the file format.\")\n",
        "\n",
        "# Load the data with the correct header row\n",
        "data = load_data(file_name)\n",
        "if header_row is not None:\n",
        "    data.columns = data.iloc[header_row]\n",
        "    data = data.drop(data.index[0:header_row+1]).reset_index(drop=True)  #Remove all the rows above the header (header is removed as well). Reset the index to 0"
      ],
      "metadata": {
        "colab": {
          "base_uri": "https://localhost:8080/"
        },
        "id": "9TpmTsbQjbHl",
        "outputId": "3bb34913-9f7a-45eb-e7e4-228a6546c692"
      },
      "execution_count": null,
      "outputs": [
        {
          "output_type": "stream",
          "name": "stderr",
          "text": [
            "/usr/local/lib/python3.10/dist-packages/openpyxl/worksheet/_reader.py:329: UserWarning: Unknown extension is not supported and will be removed\n",
            "  warn(msg)\n",
            "/usr/local/lib/python3.10/dist-packages/openpyxl/worksheet/_reader.py:329: UserWarning: Unknown extension is not supported and will be removed\n",
            "  warn(msg)\n"
          ]
        }
      ]
    },
    {
      "cell_type": "code",
      "source": [
        "# Identify columns based on the keywords\n",
        "date_columns = find_columns_by_keyword(data, [\"date\", \"time\"])\n",
        "river_level_columns = find_columns_by_keyword(data, [\"river\", \"water\", \"level\", \"max\", \"min\"])\n",
        "groundwater_level_columns = find_columns_by_keyword(data, [\"groundwater\", \"G\"])"
      ],
      "metadata": {
        "id": "ZPLn2pgf2cVy"
      },
      "execution_count": null,
      "outputs": []
    },
    {
      "cell_type": "code",
      "source": [
        "# Check if we found exactly one column for each\n",
        "if len(date_columns) != 1 or len(river_level_columns) < 2 or len(groundwater_level_columns) == 0:\n",
        "    raise ValueError(\"Could not uniquely identify required columns. Please check the file format.\")\n",
        "\n",
        "# Extract the relevant columns\n",
        "date_column = date_columns[0]\n",
        "river_water_level_max = data[river_level_columns[0]].astype(float)  # Assuming first max\n",
        "river_water_level_min = data[river_level_columns[1]].astype(float)  # Assuming second min\n",
        "groundwater_level = data[groundwater_level_columns[0]].astype(float)  # Assuming first groundwater column  (MODDIFY LATER)\n",
        "\n",
        "# Calculate the average river water level\n",
        "river_water_level_avg = (river_water_level_max + river_water_level_min) / 2\n",
        "\n",
        "# Handle missing values (if any) by forward filling\n",
        "river_water_level_avg.fillna(method='ffill', inplace=True)\n",
        "groundwater_level.fillna(method='ffill', inplace=True)\n",
        "\n",
        "# Create a DataFrame with the preprocessed data\n",
        "preprocessed_data = pd.DataFrame({\n",
        "    'Date': pd.to_datetime(data[date_column]),\n",
        "    'River_Water_Level_Avg': river_water_level_avg,\n",
        "    'Groundwater_Level': groundwater_level\n",
        "})\n",
        "\n",
        "# Export the preprocessed data to a new Excel file\n",
        "preprocessed_file_name = 'preprocessed_data_with_dates.xlsx'\n",
        "preprocessed_data.to_excel(preprocessed_file_name, index=False)\n",
        "\n",
        "# Download the preprocessed data file\n",
        "files.download(preprocessed_file_name)"
      ],
      "metadata": {
        "colab": {
          "base_uri": "https://localhost:8080/",
          "height": 17
        },
        "id": "J5qYQZzi3WWI",
        "outputId": "8cecc525-af10-4016-9eb9-d1cce9ace1b6"
      },
      "execution_count": null,
      "outputs": [
        {
          "output_type": "display_data",
          "data": {
            "text/plain": [
              "<IPython.core.display.Javascript object>"
            ],
            "application/javascript": [
              "\n",
              "    async function download(id, filename, size) {\n",
              "      if (!google.colab.kernel.accessAllowed) {\n",
              "        return;\n",
              "      }\n",
              "      const div = document.createElement('div');\n",
              "      const label = document.createElement('label');\n",
              "      label.textContent = `Downloading \"${filename}\": `;\n",
              "      div.appendChild(label);\n",
              "      const progress = document.createElement('progress');\n",
              "      progress.max = size;\n",
              "      div.appendChild(progress);\n",
              "      document.body.appendChild(div);\n",
              "\n",
              "      const buffers = [];\n",
              "      let downloaded = 0;\n",
              "\n",
              "      const channel = await google.colab.kernel.comms.open(id);\n",
              "      // Send a message to notify the kernel that we're ready.\n",
              "      channel.send({})\n",
              "\n",
              "      for await (const message of channel.messages) {\n",
              "        // Send a message to notify the kernel that we're ready.\n",
              "        channel.send({})\n",
              "        if (message.buffers) {\n",
              "          for (const buffer of message.buffers) {\n",
              "            buffers.push(buffer);\n",
              "            downloaded += buffer.byteLength;\n",
              "            progress.value = downloaded;\n",
              "          }\n",
              "        }\n",
              "      }\n",
              "      const blob = new Blob(buffers, {type: 'application/binary'});\n",
              "      const a = document.createElement('a');\n",
              "      a.href = window.URL.createObjectURL(blob);\n",
              "      a.download = filename;\n",
              "      div.appendChild(a);\n",
              "      a.click();\n",
              "      div.remove();\n",
              "    }\n",
              "  "
            ]
          },
          "metadata": {}
        },
        {
          "output_type": "display_data",
          "data": {
            "text/plain": [
              "<IPython.core.display.Javascript object>"
            ],
            "application/javascript": [
              "download(\"download_b301e8dc-ff1c-414b-9f3c-6ff69b44e67b\", \"preprocessed_data_with_dates.xlsx\", 7528)"
            ]
          },
          "metadata": {}
        }
      ]
    },
    {
      "cell_type": "code",
      "source": [
        "#Load the pre-processed data\n",
        "data = pd.read_excel('preprocessed_data_with_dates.xlsx')\n",
        "\n",
        "# Select the river water level as input and groundwater level as output\n",
        "input_data = data['River_Water_Level_Avg'].values.reshape(-1, 1)\n",
        "output_data = data['Groundwater_Level'].values\n"
      ],
      "metadata": {
        "id": "Nyy0IUDu45k3"
      },
      "execution_count": null,
      "outputs": []
    },
    {
      "cell_type": "code",
      "source": [
        "#Normalize the data\n",
        "scaler = MinMaxScaler(feature_range=(0, 1))\n",
        "scaled_input_data = scaler.fit_transform(input_data)\n"
      ],
      "metadata": {
        "id": "JVtcl9vxKaZy"
      },
      "execution_count": null,
      "outputs": []
    },
    {
      "cell_type": "code",
      "source": [
        "#Create sequence for LSTM input\n",
        "def create_sequences(input_data, output_data, time_steps):\n",
        "    X, y = [], []\n",
        "    for i in range(len(input_data) - time_steps):\n",
        "        X.append(input_data[i:(i + time_steps)])\n",
        "        y.append(output_data[i + time_steps])\n",
        "    return np.array(X), np.array(y)\n",
        "\n",
        "time_steps = 5  #Time steps for prediction\n",
        "X, y = create_sequences(scaled_input_data, output_data, time_steps)\n"
      ],
      "metadata": {
        "id": "7p4EIZ6cKcDh"
      },
      "execution_count": null,
      "outputs": []
    },
    {
      "cell_type": "code",
      "source": [
        "split = int(0.8 * len(X))  # 80% of data for training, 20% for testing\n",
        "X_train, X_test = X[:split], X[split:]\n",
        "y_train, y_test = y[:split], y[split:]\n"
      ],
      "metadata": {
        "id": "Vz1iAuU6Kyxm"
      },
      "execution_count": null,
      "outputs": []
    },
    {
      "cell_type": "code",
      "source": [
        "#LSTM Model\n",
        "# Initialize the RNN\n",
        "model = Sequential()\n",
        "\n",
        "# Add the LSTM layer\n",
        "model.add(LSTM(units=50, return_sequences=True, input_shape=(time_steps, 1)))\n",
        "model.add(LSTM(units=50))\n",
        "model.add(Dense(1))\n",
        "\n",
        "# Compile the RNN\n",
        "model.compile(optimizer='adam', loss='mean_squared_error')\n"
      ],
      "metadata": {
        "id": "XMxsviW9K7Ns"
      },
      "execution_count": null,
      "outputs": []
    },
    {
      "cell_type": "code",
      "source": [
        "#Train the model\n",
        "model.fit(X_train, y_train, epochs=100, batch_size=32, validation_data=(X_test, y_test), verbose=1)\n"
      ],
      "metadata": {
        "id": "aLHYkk46LIOw",
        "outputId": "97efc045-5542-4c35-cf00-41b7c1578ae8",
        "colab": {
          "base_uri": "https://localhost:8080/"
        }
      },
      "execution_count": null,
      "outputs": [
        {
          "output_type": "stream",
          "name": "stdout",
          "text": [
            "Epoch 1/100\n",
            "4/4 [==============================] - 6s 339ms/step - loss: 12030.8555 - val_loss: 12213.6299\n",
            "Epoch 2/100\n",
            "4/4 [==============================] - 0s 20ms/step - loss: 12013.6875 - val_loss: 12185.3506\n",
            "Epoch 3/100\n",
            "4/4 [==============================] - 0s 20ms/step - loss: 11991.5957 - val_loss: 12146.8945\n",
            "Epoch 4/100\n",
            "4/4 [==============================] - 0s 25ms/step - loss: 11961.2842 - val_loss: 12090.1445\n",
            "Epoch 5/100\n",
            "4/4 [==============================] - 0s 23ms/step - loss: 11915.3525 - val_loss: 12001.9639\n",
            "Epoch 6/100\n",
            "4/4 [==============================] - 0s 23ms/step - loss: 11845.8994 - val_loss: 11860.8369\n",
            "Epoch 7/100\n",
            "4/4 [==============================] - 0s 22ms/step - loss: 11730.7822 - val_loss: 11637.6719\n",
            "Epoch 8/100\n",
            "4/4 [==============================] - 0s 19ms/step - loss: 11549.0615 - val_loss: 11313.6230\n",
            "Epoch 9/100\n",
            "4/4 [==============================] - 0s 20ms/step - loss: 11275.5303 - val_loss: 10921.2861\n",
            "Epoch 10/100\n",
            "4/4 [==============================] - 0s 21ms/step - loss: 10913.1377 - val_loss: 10540.8418\n",
            "Epoch 11/100\n",
            "4/4 [==============================] - 0s 22ms/step - loss: 10521.2109 - val_loss: 10237.2812\n",
            "Epoch 12/100\n",
            "4/4 [==============================] - 0s 23ms/step - loss: 10171.8125 - val_loss: 10027.7852\n",
            "Epoch 13/100\n",
            "4/4 [==============================] - 0s 20ms/step - loss: 9915.7676 - val_loss: 9889.9541\n",
            "Epoch 14/100\n",
            "4/4 [==============================] - 0s 20ms/step - loss: 9742.9268 - val_loss: 9792.4287\n",
            "Epoch 15/100\n",
            "4/4 [==============================] - 0s 22ms/step - loss: 9625.2295 - val_loss: 9713.8877\n",
            "Epoch 16/100\n",
            "4/4 [==============================] - 0s 24ms/step - loss: 9536.8125 - val_loss: 9644.6631\n",
            "Epoch 17/100\n",
            "4/4 [==============================] - 0s 21ms/step - loss: 9463.2656 - val_loss: 9580.7803\n",
            "Epoch 18/100\n",
            "4/4 [==============================] - 0s 23ms/step - loss: 9397.3750 - val_loss: 9520.4883\n",
            "Epoch 19/100\n",
            "4/4 [==============================] - 0s 22ms/step - loss: 9336.3203 - val_loss: 9462.8320\n",
            "Epoch 20/100\n",
            "4/4 [==============================] - 0s 20ms/step - loss: 9278.5049 - val_loss: 9407.2100\n",
            "Epoch 21/100\n",
            "4/4 [==============================] - 0s 22ms/step - loss: 9223.0400 - val_loss: 9353.2402\n",
            "Epoch 22/100\n",
            "4/4 [==============================] - 0s 23ms/step - loss: 9169.4150 - val_loss: 9300.6670\n",
            "Epoch 23/100\n",
            "4/4 [==============================] - 0s 30ms/step - loss: 9117.2695 - val_loss: 9249.3105\n",
            "Epoch 24/100\n",
            "4/4 [==============================] - 0s 22ms/step - loss: 9066.4053 - val_loss: 9199.0264\n",
            "Epoch 25/100\n",
            "4/4 [==============================] - 0s 21ms/step - loss: 9016.6309 - val_loss: 9149.7041\n",
            "Epoch 26/100\n",
            "4/4 [==============================] - 0s 20ms/step - loss: 8967.8301 - val_loss: 9101.2441\n",
            "Epoch 27/100\n",
            "4/4 [==============================] - 0s 20ms/step - loss: 8919.8936 - val_loss: 9053.5605\n",
            "Epoch 28/100\n",
            "4/4 [==============================] - 0s 26ms/step - loss: 8872.7324 - val_loss: 9006.5898\n",
            "Epoch 29/100\n",
            "4/4 [==============================] - 0s 20ms/step - loss: 8826.2598 - val_loss: 8960.2607\n",
            "Epoch 30/100\n",
            "4/4 [==============================] - 0s 22ms/step - loss: 8780.4238 - val_loss: 8914.5010\n",
            "Epoch 31/100\n",
            "4/4 [==============================] - 0s 22ms/step - loss: 8735.1406 - val_loss: 8869.2285\n",
            "Epoch 32/100\n",
            "4/4 [==============================] - 0s 21ms/step - loss: 8690.3193 - val_loss: 8824.3369\n",
            "Epoch 33/100\n",
            "4/4 [==============================] - 0s 20ms/step - loss: 8645.8516 - val_loss: 8779.6807\n",
            "Epoch 34/100\n",
            "4/4 [==============================] - 0s 20ms/step - loss: 8601.5977 - val_loss: 8735.1240\n",
            "Epoch 35/100\n",
            "4/4 [==============================] - 0s 20ms/step - loss: 8557.4404 - val_loss: 8690.6738\n",
            "Epoch 36/100\n",
            "4/4 [==============================] - 0s 20ms/step - loss: 8513.4160 - val_loss: 8646.4863\n",
            "Epoch 37/100\n",
            "4/4 [==============================] - 0s 21ms/step - loss: 8469.6777 - val_loss: 8602.6787\n",
            "Epoch 38/100\n",
            "4/4 [==============================] - 0s 22ms/step - loss: 8426.3184 - val_loss: 8559.2764\n",
            "Epoch 39/100\n",
            "4/4 [==============================] - 0s 20ms/step - loss: 8383.3594 - val_loss: 8516.2637\n",
            "Epoch 40/100\n",
            "4/4 [==============================] - 0s 23ms/step - loss: 8340.7783 - val_loss: 8473.6240\n",
            "Epoch 41/100\n",
            "4/4 [==============================] - 0s 23ms/step - loss: 8298.5889 - val_loss: 8431.3379\n",
            "Epoch 42/100\n",
            "4/4 [==============================] - 0s 22ms/step - loss: 8256.7422 - val_loss: 8389.4043\n",
            "Epoch 43/100\n",
            "4/4 [==============================] - 0s 21ms/step - loss: 8215.2490 - val_loss: 8347.8037\n",
            "Epoch 44/100\n",
            "4/4 [==============================] - 0s 21ms/step - loss: 8174.0938 - val_loss: 8306.5361\n",
            "Epoch 45/100\n",
            "4/4 [==============================] - 0s 20ms/step - loss: 8133.2637 - val_loss: 8265.5850\n",
            "Epoch 46/100\n",
            "4/4 [==============================] - 0s 21ms/step - loss: 8092.7471 - val_loss: 8224.9395\n",
            "Epoch 47/100\n",
            "4/4 [==============================] - 0s 21ms/step - loss: 8052.5342 - val_loss: 8184.5854\n",
            "Epoch 48/100\n",
            "4/4 [==============================] - 0s 33ms/step - loss: 8012.6104 - val_loss: 8144.5205\n",
            "Epoch 49/100\n",
            "4/4 [==============================] - 0s 31ms/step - loss: 7972.9741 - val_loss: 8104.7310\n",
            "Epoch 50/100\n",
            "4/4 [==============================] - 0s 30ms/step - loss: 7933.6030 - val_loss: 8065.2134\n",
            "Epoch 51/100\n",
            "4/4 [==============================] - 0s 36ms/step - loss: 7894.5112 - val_loss: 8025.9531\n",
            "Epoch 52/100\n",
            "4/4 [==============================] - 0s 30ms/step - loss: 7855.6724 - val_loss: 7986.9497\n",
            "Epoch 53/100\n",
            "4/4 [==============================] - 0s 33ms/step - loss: 7817.0908 - val_loss: 7948.1929\n",
            "Epoch 54/100\n",
            "4/4 [==============================] - 0s 36ms/step - loss: 7778.7451 - val_loss: 7909.6802\n",
            "Epoch 55/100\n",
            "4/4 [==============================] - 0s 29ms/step - loss: 7740.6387 - val_loss: 7871.3994\n",
            "Epoch 56/100\n",
            "4/4 [==============================] - 0s 28ms/step - loss: 7702.7739 - val_loss: 7833.3413\n",
            "Epoch 57/100\n",
            "4/4 [==============================] - 0s 28ms/step - loss: 7665.1294 - val_loss: 7795.5034\n",
            "Epoch 58/100\n",
            "4/4 [==============================] - 0s 28ms/step - loss: 7627.7026 - val_loss: 7757.8848\n",
            "Epoch 59/100\n",
            "4/4 [==============================] - 0s 35ms/step - loss: 7590.4849 - val_loss: 7720.4790\n",
            "Epoch 60/100\n",
            "4/4 [==============================] - 0s 33ms/step - loss: 7553.4839 - val_loss: 7683.2793\n",
            "Epoch 61/100\n",
            "4/4 [==============================] - 0s 30ms/step - loss: 7516.6860 - val_loss: 7646.2866\n",
            "Epoch 62/100\n",
            "4/4 [==============================] - 0s 30ms/step - loss: 7480.1001 - val_loss: 7609.4878\n",
            "Epoch 63/100\n",
            "4/4 [==============================] - 0s 28ms/step - loss: 7443.7036 - val_loss: 7572.8848\n",
            "Epoch 64/100\n",
            "4/4 [==============================] - 0s 28ms/step - loss: 7407.4951 - val_loss: 7536.4741\n",
            "Epoch 65/100\n",
            "4/4 [==============================] - 0s 34ms/step - loss: 7371.4805 - val_loss: 7500.2500\n",
            "Epoch 66/100\n",
            "4/4 [==============================] - 0s 36ms/step - loss: 7335.6577 - val_loss: 7464.2109\n",
            "Epoch 67/100\n",
            "4/4 [==============================] - 0s 36ms/step - loss: 7300.0176 - val_loss: 7428.3574\n",
            "Epoch 68/100\n",
            "4/4 [==============================] - 0s 36ms/step - loss: 7264.5596 - val_loss: 7392.6851\n",
            "Epoch 69/100\n",
            "4/4 [==============================] - 0s 40ms/step - loss: 7229.2837 - val_loss: 7357.1899\n",
            "Epoch 70/100\n",
            "4/4 [==============================] - 0s 30ms/step - loss: 7194.1812 - val_loss: 7321.8677\n",
            "Epoch 71/100\n",
            "4/4 [==============================] - 0s 31ms/step - loss: 7159.2520 - val_loss: 7286.7212\n",
            "Epoch 72/100\n",
            "4/4 [==============================] - 0s 21ms/step - loss: 7124.5005 - val_loss: 7251.7480\n",
            "Epoch 73/100\n",
            "4/4 [==============================] - 0s 22ms/step - loss: 7089.9165 - val_loss: 7216.9478\n",
            "Epoch 74/100\n",
            "4/4 [==============================] - 0s 23ms/step - loss: 7055.5039 - val_loss: 7182.3105\n",
            "Epoch 75/100\n",
            "4/4 [==============================] - 0s 21ms/step - loss: 7021.2500 - val_loss: 7147.8394\n",
            "Epoch 76/100\n",
            "4/4 [==============================] - 0s 20ms/step - loss: 6987.1655 - val_loss: 7113.5234\n",
            "Epoch 77/100\n",
            "4/4 [==============================] - 0s 21ms/step - loss: 6953.2314 - val_loss: 7079.3662\n",
            "Epoch 78/100\n",
            "4/4 [==============================] - 0s 22ms/step - loss: 6919.4614 - val_loss: 7045.3604\n",
            "Epoch 79/100\n",
            "4/4 [==============================] - 0s 21ms/step - loss: 6885.8462 - val_loss: 7011.5122\n",
            "Epoch 80/100\n",
            "4/4 [==============================] - 0s 22ms/step - loss: 6852.3911 - val_loss: 6977.8232\n",
            "Epoch 81/100\n",
            "4/4 [==============================] - 0s 20ms/step - loss: 6819.0815 - val_loss: 6944.2939\n",
            "Epoch 82/100\n",
            "4/4 [==============================] - 0s 21ms/step - loss: 6785.9307 - val_loss: 6910.9185\n",
            "Epoch 83/100\n",
            "4/4 [==============================] - 0s 21ms/step - loss: 6752.9414 - val_loss: 6877.6875\n",
            "Epoch 84/100\n",
            "4/4 [==============================] - 0s 20ms/step - loss: 6720.0864 - val_loss: 6844.6064\n",
            "Epoch 85/100\n",
            "4/4 [==============================] - 0s 20ms/step - loss: 6687.3921 - val_loss: 6811.6646\n",
            "Epoch 86/100\n",
            "4/4 [==============================] - 0s 22ms/step - loss: 6654.8325 - val_loss: 6778.8774\n",
            "Epoch 87/100\n",
            "4/4 [==============================] - 0s 21ms/step - loss: 6622.4297 - val_loss: 6746.2388\n",
            "Epoch 88/100\n",
            "4/4 [==============================] - 0s 21ms/step - loss: 6590.1616 - val_loss: 6713.7432\n",
            "Epoch 89/100\n",
            "4/4 [==============================] - 0s 25ms/step - loss: 6558.0483 - val_loss: 6681.3799\n",
            "Epoch 90/100\n",
            "4/4 [==============================] - 0s 21ms/step - loss: 6526.0630 - val_loss: 6649.1567\n",
            "Epoch 91/100\n",
            "4/4 [==============================] - 0s 27ms/step - loss: 6494.2168 - val_loss: 6617.0781\n",
            "Epoch 92/100\n",
            "4/4 [==============================] - 0s 27ms/step - loss: 6462.5112 - val_loss: 6585.1372\n",
            "Epoch 93/100\n",
            "4/4 [==============================] - 0s 22ms/step - loss: 6430.9453 - val_loss: 6553.3271\n",
            "Epoch 94/100\n",
            "4/4 [==============================] - 0s 25ms/step - loss: 6399.5151 - val_loss: 6521.6514\n",
            "Epoch 95/100\n",
            "4/4 [==============================] - 0s 20ms/step - loss: 6368.2124 - val_loss: 6490.1162\n",
            "Epoch 96/100\n",
            "4/4 [==============================] - 0s 23ms/step - loss: 6337.0513 - val_loss: 6458.7119\n",
            "Epoch 97/100\n",
            "4/4 [==============================] - 0s 22ms/step - loss: 6306.0210 - val_loss: 6427.4404\n",
            "Epoch 98/100\n",
            "4/4 [==============================] - 0s 21ms/step - loss: 6275.1226 - val_loss: 6396.3076\n",
            "Epoch 99/100\n",
            "4/4 [==============================] - 0s 22ms/step - loss: 6244.3613 - val_loss: 6365.3022\n",
            "Epoch 100/100\n",
            "4/4 [==============================] - 0s 20ms/step - loss: 6213.7280 - val_loss: 6334.4268\n"
          ]
        },
        {
          "output_type": "execute_result",
          "data": {
            "text/plain": [
              "<keras.src.callbacks.History at 0x7b08c1363490>"
            ]
          },
          "metadata": {},
          "execution_count": 23
        }
      ]
    },
    {
      "cell_type": "code",
      "source": [
        "# Make predictions\n",
        "predicted_groundwater_level = model.predict(X_test)\n",
        "\n",
        "# If you've scaled the data, you need to reverse the scaling to interpret the predictions\n",
        "predicted_groundwater_level = scaler.inverse_transform(predicted_groundwater_level)\n",
        "\n",
        "# Evaluate the model\n",
        "mse = mean_squared_error(y_test, predicted_groundwater_level)\n",
        "print(f\"Mean Squared Error: {mse}\")\n"
      ],
      "metadata": {
        "id": "WhQuNbsOLLNA",
        "outputId": "c17afe6f-0aec-4eb9-81fc-3d638be11a11",
        "colab": {
          "base_uri": "https://localhost:8080/"
        }
      },
      "execution_count": null,
      "outputs": [
        {
          "output_type": "stream",
          "name": "stdout",
          "text": [
            "1/1 [==============================] - 2s 2s/step\n",
            "Mean Squared Error: 3295.4793767225124\n"
          ]
        }
      ]
    },
    {
      "cell_type": "code",
      "source": [],
      "metadata": {
        "id": "-JBJbXGSLSRi"
      },
      "execution_count": null,
      "outputs": []
    }
  ]
}