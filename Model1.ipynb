{
  "nbformat": 4,
  "nbformat_minor": 0,
  "metadata": {
    "colab": {
      "provenance": [],
      "authorship_tag": "ABX9TyNEBTeRgLgCyUE90prsPTFy",
      "include_colab_link": true
    },
    "kernelspec": {
      "name": "python3",
      "display_name": "Python 3"
    },
    "language_info": {
      "name": "python"
    }
  },
  "cells": [
    {
      "cell_type": "markdown",
      "metadata": {
        "id": "view-in-github",
        "colab_type": "text"
      },
      "source": [
        "<a href=\"https://colab.research.google.com/github/bishair/Model/blob/main/Model1.ipynb\" target=\"_parent\"><img src=\"https://colab.research.google.com/assets/colab-badge.svg\" alt=\"Open In Colab\"/></a>"
      ]
    },
    {
      "cell_type": "code",
      "execution_count": 7,
      "metadata": {
        "id": "e5wi9GI0cUDe"
      },
      "outputs": [],
      "source": [
        "import pandas as pd\n",
        "from google.colab import files\n",
        "import os"
      ]
    },
    {
      "cell_type": "code",
      "source": [
        "#Function to determine if the user uploaded csv or xlsx file format\n",
        "def load_data(file_name):\n",
        "    # Determine the file extension\n",
        "    file_extension = os.path.splitext(file_name)[1]\n",
        "    # Load data based on file extension\n",
        "    if file_extension == '.xlsx':\n",
        "        return pd.read_excel(file_name)\n",
        "    elif file_extension == '.csv':\n",
        "        return pd.read_csv(file_name)\n",
        "    else:\n",
        "        raise ValueError(\"Unsupported file type. Please upload an Excel or CSV file.\")\n",
        "\n",
        "#Function that returns the index of the row where the header is located based on the provided keywords\n",
        "def find_header_row(file_name, keywords):\n",
        "    # Load only the first 10 rows of the file for efficiency\n",
        "    data = load_data(file_name).head(10)\n",
        "    # Iterate over the rows to find the header row\n",
        "    for row_index, row in data.iterrows():\n",
        "        # Iterate over each cell in the row. For each cell iterate over each keyword in keywords. Covert each cell to string and to lowercase for efficiency\n",
        "        if any(keyword.lower() in str(cell).lower() for cell in row for keyword in keywords):\n",
        "            # Return the index of the header row\n",
        "            return row_index\n",
        "    # If no header row is found, return None\n",
        "    return None\n",
        "\n",
        "#Function to determine which columns contain the data on GW level, date and river water level\n",
        "def find_columns_by_keyword(dataframe, keywords):\n",
        "    matched_columns = []\n",
        "    for column in dataframe.columns:\n",
        "        # Ensure the column name is a string before calling .lower()\n",
        "        column_str = str(column)\n",
        "        if any(keyword.lower() in column_str.lower() for keyword in keywords):\n",
        "            matched_columns.append(column)\n",
        "    return matched_columns\n"
      ],
      "metadata": {
        "id": "rzKOPUlgcYak"
      },
      "execution_count": 18,
      "outputs": []
    },
    {
      "cell_type": "code",
      "source": [
        "# Upload the original file\n",
        "uploaded = files.upload()\n",
        "#In case user upload more than one file, only take the name of the first file\n",
        "file_name = next(iter(uploaded))"
      ],
      "metadata": {
        "colab": {
          "base_uri": "https://localhost:8080/",
          "height": 73
        },
        "id": "9CniuQ1Hci_c",
        "outputId": "fb8ac6a9-67a0-4832-be0c-061471e13564"
      },
      "execution_count": 9,
      "outputs": [
        {
          "output_type": "display_data",
          "data": {
            "text/plain": [
              "<IPython.core.display.HTML object>"
            ],
            "text/html": [
              "\n",
              "     <input type=\"file\" id=\"files-441d5bc1-8b3c-4619-bbca-18141eeb5acb\" name=\"files[]\" multiple disabled\n",
              "        style=\"border:none\" />\n",
              "     <output id=\"result-441d5bc1-8b3c-4619-bbca-18141eeb5acb\">\n",
              "      Upload widget is only available when the cell has been executed in the\n",
              "      current browser session. Please rerun this cell to enable.\n",
              "      </output>\n",
              "      <script>// Copyright 2017 Google LLC\n",
              "//\n",
              "// Licensed under the Apache License, Version 2.0 (the \"License\");\n",
              "// you may not use this file except in compliance with the License.\n",
              "// You may obtain a copy of the License at\n",
              "//\n",
              "//      http://www.apache.org/licenses/LICENSE-2.0\n",
              "//\n",
              "// Unless required by applicable law or agreed to in writing, software\n",
              "// distributed under the License is distributed on an \"AS IS\" BASIS,\n",
              "// WITHOUT WARRANTIES OR CONDITIONS OF ANY KIND, either express or implied.\n",
              "// See the License for the specific language governing permissions and\n",
              "// limitations under the License.\n",
              "\n",
              "/**\n",
              " * @fileoverview Helpers for google.colab Python module.\n",
              " */\n",
              "(function(scope) {\n",
              "function span(text, styleAttributes = {}) {\n",
              "  const element = document.createElement('span');\n",
              "  element.textContent = text;\n",
              "  for (const key of Object.keys(styleAttributes)) {\n",
              "    element.style[key] = styleAttributes[key];\n",
              "  }\n",
              "  return element;\n",
              "}\n",
              "\n",
              "// Max number of bytes which will be uploaded at a time.\n",
              "const MAX_PAYLOAD_SIZE = 100 * 1024;\n",
              "\n",
              "function _uploadFiles(inputId, outputId) {\n",
              "  const steps = uploadFilesStep(inputId, outputId);\n",
              "  const outputElement = document.getElementById(outputId);\n",
              "  // Cache steps on the outputElement to make it available for the next call\n",
              "  // to uploadFilesContinue from Python.\n",
              "  outputElement.steps = steps;\n",
              "\n",
              "  return _uploadFilesContinue(outputId);\n",
              "}\n",
              "\n",
              "// This is roughly an async generator (not supported in the browser yet),\n",
              "// where there are multiple asynchronous steps and the Python side is going\n",
              "// to poll for completion of each step.\n",
              "// This uses a Promise to block the python side on completion of each step,\n",
              "// then passes the result of the previous step as the input to the next step.\n",
              "function _uploadFilesContinue(outputId) {\n",
              "  const outputElement = document.getElementById(outputId);\n",
              "  const steps = outputElement.steps;\n",
              "\n",
              "  const next = steps.next(outputElement.lastPromiseValue);\n",
              "  return Promise.resolve(next.value.promise).then((value) => {\n",
              "    // Cache the last promise value to make it available to the next\n",
              "    // step of the generator.\n",
              "    outputElement.lastPromiseValue = value;\n",
              "    return next.value.response;\n",
              "  });\n",
              "}\n",
              "\n",
              "/**\n",
              " * Generator function which is called between each async step of the upload\n",
              " * process.\n",
              " * @param {string} inputId Element ID of the input file picker element.\n",
              " * @param {string} outputId Element ID of the output display.\n",
              " * @return {!Iterable<!Object>} Iterable of next steps.\n",
              " */\n",
              "function* uploadFilesStep(inputId, outputId) {\n",
              "  const inputElement = document.getElementById(inputId);\n",
              "  inputElement.disabled = false;\n",
              "\n",
              "  const outputElement = document.getElementById(outputId);\n",
              "  outputElement.innerHTML = '';\n",
              "\n",
              "  const pickedPromise = new Promise((resolve) => {\n",
              "    inputElement.addEventListener('change', (e) => {\n",
              "      resolve(e.target.files);\n",
              "    });\n",
              "  });\n",
              "\n",
              "  const cancel = document.createElement('button');\n",
              "  inputElement.parentElement.appendChild(cancel);\n",
              "  cancel.textContent = 'Cancel upload';\n",
              "  const cancelPromise = new Promise((resolve) => {\n",
              "    cancel.onclick = () => {\n",
              "      resolve(null);\n",
              "    };\n",
              "  });\n",
              "\n",
              "  // Wait for the user to pick the files.\n",
              "  const files = yield {\n",
              "    promise: Promise.race([pickedPromise, cancelPromise]),\n",
              "    response: {\n",
              "      action: 'starting',\n",
              "    }\n",
              "  };\n",
              "\n",
              "  cancel.remove();\n",
              "\n",
              "  // Disable the input element since further picks are not allowed.\n",
              "  inputElement.disabled = true;\n",
              "\n",
              "  if (!files) {\n",
              "    return {\n",
              "      response: {\n",
              "        action: 'complete',\n",
              "      }\n",
              "    };\n",
              "  }\n",
              "\n",
              "  for (const file of files) {\n",
              "    const li = document.createElement('li');\n",
              "    li.append(span(file.name, {fontWeight: 'bold'}));\n",
              "    li.append(span(\n",
              "        `(${file.type || 'n/a'}) - ${file.size} bytes, ` +\n",
              "        `last modified: ${\n",
              "            file.lastModifiedDate ? file.lastModifiedDate.toLocaleDateString() :\n",
              "                                    'n/a'} - `));\n",
              "    const percent = span('0% done');\n",
              "    li.appendChild(percent);\n",
              "\n",
              "    outputElement.appendChild(li);\n",
              "\n",
              "    const fileDataPromise = new Promise((resolve) => {\n",
              "      const reader = new FileReader();\n",
              "      reader.onload = (e) => {\n",
              "        resolve(e.target.result);\n",
              "      };\n",
              "      reader.readAsArrayBuffer(file);\n",
              "    });\n",
              "    // Wait for the data to be ready.\n",
              "    let fileData = yield {\n",
              "      promise: fileDataPromise,\n",
              "      response: {\n",
              "        action: 'continue',\n",
              "      }\n",
              "    };\n",
              "\n",
              "    // Use a chunked sending to avoid message size limits. See b/62115660.\n",
              "    let position = 0;\n",
              "    do {\n",
              "      const length = Math.min(fileData.byteLength - position, MAX_PAYLOAD_SIZE);\n",
              "      const chunk = new Uint8Array(fileData, position, length);\n",
              "      position += length;\n",
              "\n",
              "      const base64 = btoa(String.fromCharCode.apply(null, chunk));\n",
              "      yield {\n",
              "        response: {\n",
              "          action: 'append',\n",
              "          file: file.name,\n",
              "          data: base64,\n",
              "        },\n",
              "      };\n",
              "\n",
              "      let percentDone = fileData.byteLength === 0 ?\n",
              "          100 :\n",
              "          Math.round((position / fileData.byteLength) * 100);\n",
              "      percent.textContent = `${percentDone}% done`;\n",
              "\n",
              "    } while (position < fileData.byteLength);\n",
              "  }\n",
              "\n",
              "  // All done.\n",
              "  yield {\n",
              "    response: {\n",
              "      action: 'complete',\n",
              "    }\n",
              "  };\n",
              "}\n",
              "\n",
              "scope.google = scope.google || {};\n",
              "scope.google.colab = scope.google.colab || {};\n",
              "scope.google.colab._files = {\n",
              "  _uploadFiles,\n",
              "  _uploadFilesContinue,\n",
              "};\n",
              "})(self);\n",
              "</script> "
            ]
          },
          "metadata": {}
        },
        {
          "output_type": "stream",
          "name": "stdout",
          "text": [
            "Saving data of 2014.xlsx to data of 2014 (1).xlsx\n"
          ]
        }
      ]
    },
    {
      "cell_type": "code",
      "source": [
        "# Keywords to look for in the header row  =>  MODIFYY LATER DEPENDING UPON SAMPLE\n",
        "header_keywords = [\"date\", \"max\", \"min\", \"G21\"]\n",
        "data_keywords = [\"date\", \"river\", \"water\", \"level\", \"groundwater\", \"G\"]"
      ],
      "metadata": {
        "id": "7q2f4ulleMLq"
      },
      "execution_count": 10,
      "outputs": []
    },
    {
      "cell_type": "code",
      "source": [
        "# Find the header row\n",
        "header_row = find_header_row(file_name, header_keywords)\n",
        "\n",
        "# Check if the header row was found\n",
        "if header_row is None:\n",
        "    raise ValueError(\"Could not identify the header row. Please check the file format.\")\n",
        "\n",
        "# Load the data with the correct header row\n",
        "data = load_data(file_name)\n",
        "if header_row is not None:\n",
        "    data.columns = data.iloc[header_row]\n",
        "    data = data.drop(data.index[0:header_row+1]).reset_index(drop=True)  #Remove all the rows above the header (header is removed as well). Reset the index to 0"
      ],
      "metadata": {
        "colab": {
          "base_uri": "https://localhost:8080/"
        },
        "id": "9TpmTsbQjbHl",
        "outputId": "c53828f5-a259-4e3d-a22c-bd448905e84a"
      },
      "execution_count": 16,
      "outputs": [
        {
          "output_type": "stream",
          "name": "stderr",
          "text": [
            "/usr/local/lib/python3.10/dist-packages/openpyxl/worksheet/_reader.py:329: UserWarning: Unknown extension is not supported and will be removed\n",
            "  warn(msg)\n",
            "/usr/local/lib/python3.10/dist-packages/openpyxl/worksheet/_reader.py:329: UserWarning: Unknown extension is not supported and will be removed\n",
            "  warn(msg)\n"
          ]
        }
      ]
    },
    {
      "cell_type": "code",
      "source": [
        "# Identify columns based on the keywords\n",
        "date_columns = find_columns_by_keyword(data, [\"date\", \"time\"])\n",
        "river_level_columns = find_columns_by_keyword(data, [\"river\", \"water\", \"level\", \"max\", \"min\"])\n",
        "groundwater_level_columns = find_columns_by_keyword(data, [\"groundwater\", \"G\"])"
      ],
      "metadata": {
        "id": "ZPLn2pgf2cVy"
      },
      "execution_count": 19,
      "outputs": []
    },
    {
      "cell_type": "code",
      "source": [
        "# Check if we found exactly one column for each\n",
        "if len(date_columns) != 1 or len(river_level_columns) < 2 or len(groundwater_level_columns) == 0:\n",
        "    raise ValueError(\"Could not uniquely identify required columns. Please check the file format.\")\n",
        "\n",
        "# Extract the relevant columns\n",
        "date_column = date_columns[0]\n",
        "river_water_level_max = data[river_level_columns[0]].astype(float)  # Assuming first max\n",
        "river_water_level_min = data[river_level_columns[1]].astype(float)  # Assuming second min\n",
        "groundwater_level = data[groundwater_level_columns[0]].astype(float)  # Assuming first groundwater column\n",
        "\n",
        "# Calculate the average river water level\n",
        "river_water_level_avg = (river_water_level_max + river_water_level_min) / 2\n",
        "\n",
        "# Handle missing values (if any) by forward filling\n",
        "river_water_level_avg.fillna(method='ffill', inplace=True)\n",
        "groundwater_level.fillna(method='ffill', inplace=True)\n",
        "\n",
        "# Create a DataFrame with the preprocessed data\n",
        "preprocessed_data = pd.DataFrame({\n",
        "    'Date': pd.to_datetime(data[date_column]),\n",
        "    'River_Water_Level_Avg': river_water_level_avg,\n",
        "    'Groundwater_Level': groundwater_level\n",
        "})\n",
        "\n",
        "# Export the preprocessed data to a new Excel file\n",
        "preprocessed_file_name = 'preprocessed_data_with_dates.xlsx'\n",
        "preprocessed_data.to_excel(preprocessed_file_name, index=False)\n",
        "\n",
        "# Download the preprocessed data file\n",
        "files.download(preprocessed_file_name)"
      ],
      "metadata": {
        "colab": {
          "base_uri": "https://localhost:8080/",
          "height": 17
        },
        "id": "J5qYQZzi3WWI",
        "outputId": "24c1cc01-d8ff-4cb9-bc20-bb044453074d"
      },
      "execution_count": 21,
      "outputs": [
        {
          "output_type": "display_data",
          "data": {
            "text/plain": [
              "<IPython.core.display.Javascript object>"
            ],
            "application/javascript": [
              "\n",
              "    async function download(id, filename, size) {\n",
              "      if (!google.colab.kernel.accessAllowed) {\n",
              "        return;\n",
              "      }\n",
              "      const div = document.createElement('div');\n",
              "      const label = document.createElement('label');\n",
              "      label.textContent = `Downloading \"${filename}\": `;\n",
              "      div.appendChild(label);\n",
              "      const progress = document.createElement('progress');\n",
              "      progress.max = size;\n",
              "      div.appendChild(progress);\n",
              "      document.body.appendChild(div);\n",
              "\n",
              "      const buffers = [];\n",
              "      let downloaded = 0;\n",
              "\n",
              "      const channel = await google.colab.kernel.comms.open(id);\n",
              "      // Send a message to notify the kernel that we're ready.\n",
              "      channel.send({})\n",
              "\n",
              "      for await (const message of channel.messages) {\n",
              "        // Send a message to notify the kernel that we're ready.\n",
              "        channel.send({})\n",
              "        if (message.buffers) {\n",
              "          for (const buffer of message.buffers) {\n",
              "            buffers.push(buffer);\n",
              "            downloaded += buffer.byteLength;\n",
              "            progress.value = downloaded;\n",
              "          }\n",
              "        }\n",
              "      }\n",
              "      const blob = new Blob(buffers, {type: 'application/binary'});\n",
              "      const a = document.createElement('a');\n",
              "      a.href = window.URL.createObjectURL(blob);\n",
              "      a.download = filename;\n",
              "      div.appendChild(a);\n",
              "      a.click();\n",
              "      div.remove();\n",
              "    }\n",
              "  "
            ]
          },
          "metadata": {}
        },
        {
          "output_type": "display_data",
          "data": {
            "text/plain": [
              "<IPython.core.display.Javascript object>"
            ],
            "application/javascript": [
              "download(\"download_a9129ccc-6c50-44b8-8686-1be81d69dcc6\", \"preprocessed_data_with_dates.xlsx\", 7527)"
            ]
          },
          "metadata": {}
        }
      ]
    },
    {
      "cell_type": "code",
      "source": [],
      "metadata": {
        "id": "Nyy0IUDu45k3"
      },
      "execution_count": null,
      "outputs": []
    }
  ]
}